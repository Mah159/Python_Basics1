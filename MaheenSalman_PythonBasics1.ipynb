{
  "nbformat": 4,
  "nbformat_minor": 0,
  "metadata": {
    "colab": {
      "provenance": []
    },
    "kernelspec": {
      "name": "python3",
      "display_name": "Python 3"
    },
    "language_info": {
      "name": "python"
    }
  },
  "cells": [
    {
      "cell_type": "markdown",
      "source": [
        "Task 1: Variables and Data Types\n",
        "\n",
        "a) Create three variables: one for storing your age (integer), one for your name (string), and one to\n",
        "check if you are a student (Boolean). Print the variables.\n",
        "\n"
      ],
      "metadata": {
        "id": "8ez-4fd274Fu"
      }
    },
    {
      "cell_type": "code",
      "source": [
        "a = 22 #initializing age\n",
        "print (\"Your age is \", a)\n",
        "n = \"maheen\" #initializing name\n",
        "print (\"Your name is \", n)\n",
        "s = True\n",
        "ns = False\n",
        "d = input(\"Are you a student? (Yes/No) \") #Taking an input from user and storing it in the variable d\n",
        "if d == \"Yes\" or \"yes\": #initializing if to check the input from user, or is used to cater to lowercase or upper case\n",
        "   print (s)\n",
        "else:\n",
        "  print (ns)\n"
      ],
      "metadata": {
        "colab": {
          "base_uri": "https://localhost:8080/"
        },
        "id": "m39M2Ljj75ym",
        "outputId": "83a12d58-ba75-486f-d644-fe820b053752"
      },
      "execution_count": null,
      "outputs": [
        {
          "output_type": "stream",
          "name": "stdout",
          "text": [
            "Your age is  22\n",
            "Your name is  maheen\n"
          ]
        }
      ]
    },
    {
      "cell_type": "markdown",
      "source": [
        "b) Perform the following operations and print the results:\n",
        "- Add 25 to your age variable.\n",
        "- Concatenate your name with the string \"Smith\"\n",
        "- Negate the Boolean variable (if True, make it False, and vice versa)."
      ],
      "metadata": {
        "id": "Sj6HLRjS79lm"
      }
    },
    {
      "cell_type": "code",
      "source": [
        "a = 25 #initializing age\n",
        "a += 25 #adding 25 in age\n",
        "print (a) #printing age\n",
        "\n",
        "name = (input(\"What is your name? \")) #intializing the name as a string to take an input from the user with the help of the input function\n",
        "surname = \"Smith\" #initializing surname\n",
        "fullname = name + \" \" + surname #adding the surname Smith in the users first name\n",
        "print (\"Your full name is\", fullname) #printing fullname\n",
        "s = True\n",
        "a = input(\"Are you a student? (Yes/No) \") #Taking an input from user and storing it in the variable s\n",
        "if a == \"Yes\" or \"yes\": #initializing if to check the input from user, or is used to cater to lowercase or upper case\n",
        "   print (not s)\n",
        "else:\n",
        "  print (s)"
      ],
      "metadata": {
        "id": "pOvlm6gM8DG4"
      },
      "execution_count": null,
      "outputs": []
    },
    {
      "cell_type": "markdown",
      "source": [
        "Task 2: Expressions and Operators\n",
        "a) A rectangle has a width of 5.5 units and a height of 3.25 units. Store width and height in variables.\n",
        "Create a new variable called area and write an expression to calculate the area. Print the area in the\n",
        "output."
      ],
      "metadata": {
        "id": "4tZV7-dL8Ork"
      }
    },
    {
      "cell_type": "code",
      "source": [
        "width = 5.5 #initializing width of rectangle\n",
        "height = 3.25 #initializing height of rectangle\n",
        "area = width*height #calculating area of rectangle by multiplying width and height\n",
        "print (\"Area of rectangle is \", area) #printing area"
      ],
      "metadata": {
        "id": "y7Kukin98REk"
      },
      "execution_count": null,
      "outputs": []
    },
    {
      "cell_type": "markdown",
      "source": [
        "b) Create a temperature variable in Celsius. Convert it to Fahrenheit using the formula: F = (C * 9/5)\n",
        "+ 32. Store this temperature in a variable called Fahrenheit and print this variable."
      ],
      "metadata": {
        "id": "dc192Oad8aid"
      }
    },
    {
      "cell_type": "code",
      "source": [
        "#converting Celsius into Fahrenheit\n",
        "Celsius = float(input(\"What is your required temperature in Celsius? \")) #converting input value of temperature into an float number, it allows us to take input in float or integer\n",
        "Fahrenheit = ((Celsius*(9/5)) + 32) #applying formula of Fahrenheit\n",
        "print (\"Your\", Celsius, \"degree temperature when converted to Fahrenheit is \", Fahrenheit) #printing conversion of celsius to fahrenheit"
      ],
      "metadata": {
        "id": "a77r56Po8gSf"
      },
      "execution_count": null,
      "outputs": []
    },
    {
      "cell_type": "markdown",
      "source": [
        "c) Create a variable called radius and give it a value of 5. Calculate the area of a circle with this radius\n",
        "and store it in a variable called area. Print area at the end of your code. (Use the formula: area = π *\n",
        "radius^2, where π (pi) is approximately 3.14159)."
      ],
      "metadata": {
        "id": "atYwo8cC8xMb"
      }
    },
    {
      "cell_type": "code",
      "source": [
        "radius = 5 #initialzing the defined value 5 of radius\n",
        "area = (3.14159 * (radius**2)) #implementing the formula of area of circle\n",
        "print (\"Area of circle is \", area) #printing the area of a circle"
      ],
      "metadata": {
        "id": "aWuFaz0_8132"
      },
      "execution_count": null,
      "outputs": []
    },
    {
      "cell_type": "markdown",
      "source": [
        "Task 3: Introduction to Data Structures\n",
        "\n"
      ],
      "metadata": {
        "id": "fFnUi75z84ou"
      }
    },
    {
      "cell_type": "markdown",
      "source": [
        "a) Create a list called \"fruits\" containing the following fruits: \"apple\" \"banana\" \"orange\" \"grape\" and \"kiwi\". Print the list."
      ],
      "metadata": {
        "id": "Li9i0akA9ouk"
      }
    },
    {
      "cell_type": "code",
      "source": [
        "fruits = [\"apple\", \"banana\", \"orange\", \"grape\", \"kiwi\"] #initialzing a list of fruits\n",
        "print(fruits)"
      ],
      "metadata": {
        "id": "R6Hp0yUx9nEC"
      },
      "execution_count": null,
      "outputs": []
    },
    {
      "cell_type": "markdown",
      "source": [
        "b) Create a tuple named &quot;months&quot; with the names of the first three months of the year. Print the\n",
        "tuple."
      ],
      "metadata": {
        "id": "gQC5GjtABJuw"
      }
    },
    {
      "cell_type": "code",
      "source": [
        "months = (\"January\", \"February\", \"March\") #initializing the tuple called months to store the first three months. Tuples are immutable\n",
        "print(months)"
      ],
      "metadata": {
        "id": "GbJh-ZLaCCKe"
      },
      "execution_count": null,
      "outputs": []
    },
    {
      "cell_type": "markdown",
      "source": [
        "Task 4: List Manipulation\n",
        "a) Given the list of numbers below, write a Python program to calculate the sum and average of\n",
        "these numbers. Print both results.\n",
        "numbers = [12, 34, 45, 67, 89, 100, 23, 56]"
      ],
      "metadata": {
        "id": "hRw7SZUvDU_G"
      }
    },
    {
      "cell_type": "code",
      "source": [
        "#Calculating the sum of a list of numbers using for and the sum function\n",
        "numbers = [12, 34, 45, 67, 89, 100, 23, 56] #initialzing a list of numbers\n",
        "total = 0 #initializing total as zero so that numbers can be stored and added to it\n",
        "for i in range (0, len(numbers)): #defining the for loop to run till the last index of the list by using the len function, i is the index and range allows us to create a collection\n",
        "  total = total + numbers[i] #the first time the for loop runs we will get starting with 0 + 12 = 12 then 12 + 34 = 46 and so on\n",
        "  print (total)\n",
        "print (\"Sum of the numbers given in the list is\", total)\n",
        "\n",
        "total = sum(numbers) #The sum function can also be used to calculate the sum of numbers in the list\n",
        "\n",
        "print (\"Sum of the numbers given in the list is\", total)\n",
        "\n",
        "#Calculating the average\n",
        "average = total / len(numbers)\n",
        "\n",
        "print(\"Average of the numbers given in the list is\", average)\n"
      ],
      "metadata": {
        "id": "V7VLbLFHDYST"
      },
      "execution_count": null,
      "outputs": []
    },
    {
      "cell_type": "markdown",
      "source": [
        "b) Remove the first and last elements from the &quot;fruits&quot; list created earlier. Print the updated list."
      ],
      "metadata": {
        "id": "QKZVUgiLD0MA"
      }
    },
    {
      "cell_type": "code",
      "source": [
        "fruits = [\"apple\", \"banana\", \"orange\", \"grape\", \"kiwi\"]\n",
        "\n",
        "#Removing the last element\n",
        "fruits.pop()\n",
        "\n",
        "#Removing the first element\n",
        "fruits.pop(0)\n",
        "\n",
        "print(fruits) #Output: ['banana', 'orange', 'grape']\n"
      ],
      "metadata": {
        "id": "3wveT1fWD0-p"
      },
      "execution_count": null,
      "outputs": []
    },
    {
      "cell_type": "markdown",
      "source": [
        "Task 5: Dictionary Operations\n",
        "a) Create a dictionary named &quot;capitals&quot; with three key-value pairs: &quot;USA&quot; - &quot;Washington D.C.,&quot;\n",
        "&quot;France&quot; - &quot;Paris,&quot; and &quot;Japan&quot; - &quot;Tokyo.&quot; Print the dictionary."
      ],
      "metadata": {
        "id": "5gtmODLKD4Ip"
      }
    },
    {
      "cell_type": "code",
      "source": [
        "capitals = {\"USA\":\" Washington DC\", \"France\":\"Paris\", \"Japan\": \"Tokyo\"}#initializing dictionary for capitals of three countries\n",
        "print(capitals) #printing the complete dictionary"
      ],
      "metadata": {
        "id": "sGlYCagXD7PF"
      },
      "execution_count": null,
      "outputs": []
    },
    {
      "cell_type": "markdown",
      "source": [
        "b) Add a new country and its capital to the &quot;capitals&quot; dictionary. The country is &quot;Germany,&quot; and the\n",
        "capital is &quot;Berlin.&quot; Print the updated dictionary."
      ],
      "metadata": {
        "id": "Z_bNnHaYFOxw"
      }
    },
    {
      "cell_type": "code",
      "source": [
        "capitals = {\"USA\":\" Washington DC\", \"France\":\"Paris\", \"Japan\": \"Tokyo\"} #initializing dictionary for capitals of three countries\n",
        "\n",
        "capitals[\"Germany\"] =\"Berlin\" #adding Berlin capital of Germany in the dictionary\n",
        "print(capitals)"
      ],
      "metadata": {
        "id": "Piw2tPcuFV4a"
      },
      "execution_count": null,
      "outputs": []
    },
    {
      "cell_type": "markdown",
      "source": [
        "c) Check if &quot;France&quot; exists in the &quot;capitals&quot; dictionary. If it does, print &quot;France is in the dictionary,&quot;\n",
        "otherwise, print &quot;France is not in the dictionary.&quot;"
      ],
      "metadata": {
        "id": "7Kh5-VDsFjsS"
      }
    },
    {
      "cell_type": "code",
      "source": [
        "capitals = {\"USA\":\" Washington DC\", \"France\":\"Paris\", \"Japan\": \"Tokyo\"} #initializing dictionary for capitals of three countries\n",
        "country = \"France\" #initializing the country france to check if it is present in the list\n",
        "if country in capitals: #using if to check if the country france is present in the list\n",
        "  print (\"France is in the dictionary\")\n",
        "else:\n",
        "  print (\"France is not in the dictionary\")"
      ],
      "metadata": {
        "id": "BAIzeDClGBBF"
      },
      "execution_count": null,
      "outputs": []
    },
    {
      "cell_type": "markdown",
      "source": [
        "Task 6: Comparison Operators, Logical Operators and If/Else:\n",
        "a) Create a variable called number that takes user input (we studied the input() function). Next,\n",
        "write a block of code that checks if the number is even or odd"
      ],
      "metadata": {
        "id": "kagMjgX8GIcm"
      }
    },
    {
      "cell_type": "code",
      "source": [
        "number = int(input(\"Enter a number to check if it is even or odd \")) #initializing number as an integer value to be taken from the user\n",
        "if number % 2 == 0: #using the modulus operator to check if the input number when divided by 2 must have a zero operator for it to be an even number\n",
        "  print(\"The number entered is even\")\n",
        "else:\n",
        "  print(\"The number entered is odd\")"
      ],
      "metadata": {
        "id": "Zhcj33saGNg2"
      },
      "execution_count": null,
      "outputs": []
    },
    {
      "cell_type": "markdown",
      "source": [
        "b) Create two variables called age and GPA. Give them values of your choice. Next, write a block of\n",
        "code to check if a student with this age and GPA is eligible for admission. The following are the\n",
        "conditions:\n",
        "- The student must be at least 18 years old.\n",
        "- The student&#39;s GPA must be 3.0 or higher on a scale of 4.0.\n",
        "Your output should print “Eligible for admission” or “Not eligible for admission”."
      ],
      "metadata": {
        "id": "GABZSMIvGSUi"
      }
    },
    {
      "cell_type": "code",
      "source": [
        "age = int(input(\"Kindly enter your age: \")) #Initializing the input age as an integer and taking input from the user\n",
        "GPA = float(input(\"Kindly enter your GPA: \")) #Initializing the input GPA as a float and taking input from the user\n",
        "if age >= 18: #Since the requirement of age is at least 18, the greater than and equal to comparison operator is used\n",
        " if 3.0 < GPA < 4.0: #Nested if is used as both defined requirements of age and GPA need to be met inorder to be eligible for the admission, here the GPA range is defined between 3 and 4\n",
        "  print(\"Eligible for Admission\")\n",
        "\n",
        "else:\n",
        "  print(\"Not eligible for Admission\")"
      ],
      "metadata": {
        "id": "SZBC2Um1GY4o"
      },
      "execution_count": null,
      "outputs": []
    },
    {
      "cell_type": "markdown",
      "source": [
        "Task 7: Advanced Data Types\n",
        "a) Create a set named &quot;fruits_set&quot; containing the following fruits: &quot;apple,&quot; &quot;banana,&quot; &quot;orange,&quot;\n",
        "&quot;grape,&quot; and &quot;kiwi.&quot; Print the set."
      ],
      "metadata": {
        "id": "09WYGbhUGd5t"
      }
    },
    {
      "cell_type": "code",
      "source": [
        "fruits_set = {'apple', 'banana', 'orange', 'grape', 'kiwi'} #initializing the set of fruits\n",
        "print(fruits_set) #printing the set of fruits"
      ],
      "metadata": {
        "id": "4hrmigA8Ggm8"
      },
      "execution_count": null,
      "outputs": []
    },
    {
      "cell_type": "markdown",
      "source": [
        "b) Given two sets:\n",
        "set1 = {1, 2, 3, 4, 5}\n",
        "set2 = {3, 4, 5, 6, 7}\n",
        "\n",
        "Write Python code to perform the following operations and print the results:\n",
        "- Union of set1 and set2.\n",
        "- Intersection of set1 and set2.\n",
        "- Difference between set1 and set2.\n",
        "- Check if set1 is a subset of set2."
      ],
      "metadata": {
        "id": "hDJFbpQ0Gk5X"
      }
    },
    {
      "cell_type": "code",
      "source": [
        "set1 = {1, 2, 3, 4, 5} #initializing set1\n",
        "set2 = {3, 4, 5, 6, 7} #initializing set2\n",
        "print(\"Union of set1 and set2 is\", set1.union(set2)) #finding the union of set1 and set2\n",
        "print(\"Intersection of set1 and set2 is\", set1.intersection(set2)) #finding the intersection of set1 and set2\n",
        "print(\"Difference between set1 and set2 is\", set1.difference(set2)) #finding the difference between set1 and set2\n",
        "print(\"Is set1 subset of set2? (T/F):\", set1.issubset(set2)) #checking to see if set1 is subset of set2 using the issubset function\n"
      ],
      "metadata": {
        "id": "Ls5zBTxYGnmF"
      },
      "execution_count": null,
      "outputs": []
    },
    {
      "cell_type": "markdown",
      "source": [
        "Task 8: Strings Manipulation\n",
        "a) Create a string variable containing the following sentence:\n",
        "&quot;Python programming is fun and powerful!&quot;\n",
        "Write Python code to do the following and print the results:\n",
        "- Find the length of the string.\n",
        "- Convert the string to uppercase.\n",
        "- Replace &quot;fun&quot; with &quot;exciting.&quot;\n",
        "- Check if the string contains the word &quot;Python.&quot;\n",
        "- Split the string into a list of words."
      ],
      "metadata": {
        "id": "pzomsiKrGqa1"
      }
    },
    {
      "cell_type": "code",
      "source": [
        "strn = \"Python programming is fun and powerful!\" #initializing a string\n",
        "print(\"The length of the string is:\", len(str))\n",
        "#The .upper function allows us to print every letter in the string in Uppercase\n",
        "print(\"The string in uppercase is:\")\n",
        "print(strn.upper())\n",
        "#The replace function allows us to replace any character in the string\n",
        "print(\"Replacing fun with exciting:\")\n",
        "strn.replace(\"fun\", \"exciting\")\n",
        "#The string find function returns 0 as the word Python is at the beginning of the string\n",
        "print(\"The index of the word Python in this string is:\", strn.find(\"Python\"))\n",
        "#Now to convert the string into a list the split function is used\n",
        "print(\"Converting the string into a list\")\n",
        "sstrn = strn.split ()\n",
        "print(sstrn)"
      ],
      "metadata": {
        "id": "MtpIoEnIGtjw"
      },
      "execution_count": null,
      "outputs": []
    }
  ]
}